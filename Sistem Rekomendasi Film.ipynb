{
 "cells": [
  {
   "cell_type": "markdown",
   "id": "8ce70108",
   "metadata": {},
   "source": [
    "# **Sistem Rekomendasi Film**"
   ]
  },
  {
   "cell_type": "markdown",
   "id": "676d424d",
   "metadata": {},
   "source": [
    "# **1.Import Library**\n",
    "\n",
    "Mengimpor Library yang dibutuhkan dalam pembuatan model"
   ]
  },
  {
   "cell_type": "code",
   "execution_count": 2,
   "id": "469c58ef",
   "metadata": {},
   "outputs": [],
   "source": [
    "import pandas as pd\n",
    "import numpy as np\n",
    "import matplotlib.pyplot as plt\n",
    "import seaborn as sns\n",
    "from surprise import Reader, Dataset\n",
    "from sklearn.feature_extraction.text import TfidfVectorizer\n",
    "from sklearn.metrics.pairwise import cosine_similarity\n",
    "from surprise import SVD\n",
    "from surprise.model_selection import train_test_split\n",
    "from collections import defaultdict\n",
    "from sklearn.metrics.pairwise import linear_kernel\n"
   ]
  },
  {
   "cell_type": "markdown",
   "id": "e353fdfb",
   "metadata": {},
   "source": [
    "# **2.Memuat Dataset dan Menggabungkan Data**\n",
    "\n",
    "Memuat Dataset dan menggabungkan data dari movies_metadata.csv dengan ratings.csv"
   ]
  },
  {
   "cell_type": "code",
   "execution_count": 3,
   "id": "678c279d",
   "metadata": {},
   "outputs": [
    {
     "name": "stdout",
     "output_type": "stream",
     "text": [
      "Dataset berhasil dimuat.\n",
      "Jumlah data film: 45466\n",
      "Jumlah data rating: 26024289\n",
      "\n",
      "Contoh data setelah digabung:\n",
      "   userId  movieId  rating   timestamp                 title  \\\n",
      "0       1      110     1.0  1425941529     Three Colors: Red   \n",
      "1       1      147     4.5  1425942435         The 400 Blows   \n",
      "2       1      858     5.0  1425941523  Sleepless in Seattle   \n",
      "3       1     1221     5.0  1425941546                   NaN   \n",
      "4       1     1246     5.0  1425941556          Rocky Balboa   \n",
      "\n",
      "                                              genres  \n",
      "0  [{'id': 18, 'name': 'Drama'}, {'id': 9648, 'na...  \n",
      "1                      [{'id': 18, 'name': 'Drama'}]  \n",
      "2  [{'id': 35, 'name': 'Comedy'}, {'id': 18, 'nam...  \n",
      "3                                                NaN  \n",
      "4                      [{'id': 18, 'name': 'Drama'}]  \n"
     ]
    }
   ],
   "source": [
    "movies_df = pd.read_csv('data/movies_metadata.csv', low_memory=False)\n",
    "\n",
    "ratings_df = pd.read_csv('data/ratings.csv')\n",
    "\n",
    "print(\"Dataset berhasil dimuat.\")\n",
    "print(f\"Jumlah data film: {len(movies_df)}\")\n",
    "print(f\"Jumlah data rating: {len(ratings_df)}\")\n",
    "\n",
    "# Hapus baris dengan ID yang tidak valid di movies_df\n",
    "movies_df = movies_df[movies_df['id'].str.isnumeric()]\n",
    "\n",
    "# Ubah tipe data kolom 'id' agar bisa digabungkan\n",
    "movies_df['id'] = movies_df['id'].astype(int)\n",
    "\n",
    "# Ganti nama kolom 'id' agar konsisten dengan 'movieId' di ratings_df\n",
    "movies_df.rename(columns={'id': 'movieId'}, inplace=True)\n",
    "\n",
    "# Gabungkan ratings_df dengan kolom terpilih dari movies_df\n",
    "movie_data = pd.merge(ratings_df, movies_df[['movieId', 'title', 'genres']], on='movieId', how='left')\n",
    "\n",
    "# Menampilkan 5 baris pertama dari data gabungan\n",
    "print(\"\\nContoh data setelah digabung:\")\n",
    "print(movie_data.head())"
   ]
  },
  {
   "cell_type": "markdown",
   "id": "ed65bf90",
   "metadata": {},
   "source": [
    "# **3.Exploratory Data Analysis (EDA)**\n",
    "\n",
    "proses ini akan mencari tahu 10 film yang paling banyak menerima rating dari pengguna."
   ]
  },
  {
   "cell_type": "code",
   "execution_count": 6,
   "id": "87ee1f46",
   "metadata": {},
   "outputs": [
    {
     "name": "stdout",
     "output_type": "stream",
     "text": [
      "Movie_Data yang kosong berjumlah : userId              0\n",
      "movieId             0\n",
      "rating              0\n",
      "timestamp           0\n",
      "title        14587721\n",
      "genres       14587721\n",
      "dtype: int64\n",
      "<class 'pandas.core.frame.DataFrame'>\n",
      "RangeIndex: 26025358 entries, 0 to 26025357\n",
      "Data columns (total 6 columns):\n",
      " #   Column     Dtype  \n",
      "---  ------     -----  \n",
      " 0   userId     int64  \n",
      " 1   movieId    int64  \n",
      " 2   rating     float64\n",
      " 3   timestamp  int64  \n",
      " 4   title      object \n",
      " 5   genres     object \n",
      "dtypes: float64(1), int64(3), object(2)\n",
      "memory usage: 1.2+ GB\n"
     ]
    }
   ],
   "source": [
    "print(\"Movie_Data yang kosong berjumlah :\", movie_data.isnull().sum())\n",
    "\n",
    "movie_data.info()"
   ]
  },
  {
   "cell_type": "code",
   "execution_count": 12,
   "id": "b7b6af33",
   "metadata": {},
   "outputs": [
    {
     "name": "stdout",
     "output_type": "stream",
     "text": [
      "10 Film dengan Rating Terbanyak:\n",
      "title\n",
      "The Million Dollar Hotel              91082\n",
      "Terminator 3: Rise of the Machines    87901\n",
      "Solaris                               84318\n",
      "The 39 Steps                          77045\n",
      "Monsoon Wedding                       74355\n",
      "Once Were Warriors                    67662\n",
      "Three Colors: Red                     66512\n",
      "License to Wed                        60024\n",
      "48 Hrs.                               57416\n",
      "The Passion of Joan of Arc            57232\n",
      "Name: count, dtype: int64\n"
     ]
    },
    {
     "name": "stderr",
     "output_type": "stream",
     "text": [
      "C:\\Users\\fayiz_lgdvoec\\AppData\\Local\\Temp\\ipykernel_9536\\535976268.py:11: FutureWarning: \n",
      "\n",
      "Passing `palette` without assigning `hue` is deprecated and will be removed in v0.14.0. Assign the `y` variable to `hue` and set `legend=False` for the same effect.\n",
      "\n",
      "  sns.barplot(x=top_movies.values, y=top_movies.index, palette='mako')\n"
     ]
    },
    {
     "data": {
      "image/png": "[encoded data removed]",
      "text/plain": [
       "<Figure size 1200x600 with 1 Axes>"
      ]
     },
     "metadata": {},
     "output_type": "display_data"
    },
    {
     "name": "stderr",
     "output_type": "stream",
     "text": [
      "C:\\Users\\fayiz_lgdvoec\\AppData\\Local\\Temp\\ipykernel_9536\\535976268.py:20: FutureWarning: \n",
      "\n",
      "Passing `palette` without assigning `hue` is deprecated and will be removed in v0.14.0. Assign the `x` variable to `hue` and set `legend=False` for the same effect.\n",
      "\n",
      "  sns.countplot(x='rating', data=movie_data, palette='viridis')\n"
     ]
    },
    {
     "data": {
      "image/png": "[encoded data removed]",
      "text/plain": [
       "<Figure size 1000x500 with 1 Axes>"
      ]
     },
     "metadata": {},
     "output_type": "display_data"
    }
   ],
   "source": [
    "sns.set(style='whitegrid')\n",
    "\n",
    "# Hitung jumlah rating untuk setiap film\n",
    "top_movies = movie_data['title'].value_counts().head(10)\n",
    "\n",
    "print(\"10 Film dengan Rating Terbanyak:\")\n",
    "print(top_movies)\n",
    "\n",
    "# Buat plot\n",
    "plt.figure(figsize=(12, 6))\n",
    "sns.barplot(x=top_movies.values, y=top_movies.index, palette='mako')\n",
    "plt.title('Top 10 Film dengan Jumlah Rating Terbanyak', fontsize=16)\n",
    "plt.xlabel('Jumlah Rating')\n",
    "plt.ylabel('Judul Film')\n",
    "plt.savefig('top_10_movies.png')\n",
    "plt.show()\n",
    "\n",
    "# Buat plot distribusi rating\n",
    "plt.figure(figsize=(10, 5))\n",
    "sns.countplot(x='rating', data=movie_data, palette='viridis')\n",
    "plt.title('Distribusi Rating Film', fontsize=16)\n",
    "plt.xlabel('Rating')\n",
    "plt.ylabel('Jumlah Pengguna')\n",
    "plt.savefig('rating_distribution.png')\n",
    "plt.show()"
   ]
  },
  {
   "cell_type": "markdown",
   "id": "89e4b719",
   "metadata": {},
   "source": [
    "# **4. Persiapan Data Untuk Modeling**"
   ]
  },
  {
   "cell_type": "markdown",
   "id": "1d8ef165",
   "metadata": {},
   "source": [
    "**Persiapan Data untuk Model Content-Based Filtering**\n",
    "\n",
    "Model ini hanya memerlukan informasi tentang film (item), khususnya movieId, title, dan genres. Kita akan membuat DataFrame baru yang bersih dan tidak ada duplikat film."
   ]
  },
  {
   "cell_type": "code",
   "execution_count": 13,
   "id": "36eaddaa",
   "metadata": {},
   "outputs": [
    {
     "name": "stdout",
     "output_type": "stream",
     "text": [
      "Data untuk Content-Based Filtering (movie_features):\n",
      "                               title  \\\n",
      "movieId                                \n",
      "862                        Toy Story   \n",
      "8844                         Jumanji   \n",
      "15602               Grumpier Old Men   \n",
      "31357              Waiting to Exhale   \n",
      "11862    Father of the Bride Part II   \n",
      "\n",
      "                                                    genres  \n",
      "movieId                                                     \n",
      "862      [{'id': 16, 'name': 'Animation'}, {'id': 35, '...  \n",
      "8844     [{'id': 12, 'name': 'Adventure'}, {'id': 14, '...  \n",
      "15602    [{'id': 10749, 'name': 'Romance'}, {'id': 35, ...  \n",
      "31357    [{'id': 35, 'name': 'Comedy'}, {'id': 18, 'nam...  \n",
      "11862                       [{'id': 35, 'name': 'Comedy'}]  \n"
     ]
    }
   ],
   "source": [
    "# Membuat DataFrame baru yang hanya berisi fitur film\n",
    "movie_features = movies_df[['movieId', 'title', 'genres']].copy()\n",
    "\n",
    "# Hapus duplikat film berdasarkan movieId\n",
    "movie_features.drop_duplicates(subset='movieId', inplace=True)\n",
    "\n",
    "# Setel movieId sebagai index untuk pencarian yang lebih cepat nanti\n",
    "movie_features.set_index('movieId', inplace=True)\n",
    "\n",
    "print(\"Data untuk Content-Based Filtering (movie_features):\")\n",
    "print(movie_features.head())"
   ]
  },
  {
   "cell_type": "code",
   "execution_count": 14,
   "id": "08e35f5a",
   "metadata": {},
   "outputs": [
    {
     "name": "stdout",
     "output_type": "stream",
     "text": [
      "Menggunakan subset data dengan 4276 film populer.\n"
     ]
    }
   ],
   "source": [
    "# Hitung jumlah rating untuk setiap film\n",
    "movie_rating_counts = movie_data['movieId'].value_counts()\n",
    "\n",
    "# Pilih 15.000 film teratas dengan rating terbanyak\n",
    "top_movie_ids = movie_rating_counts.head(15000).index\n",
    "\n",
    "# Filter DataFrame movie_features agar hanya berisi film-film populer\n",
    "movie_features_subset = movie_features.loc[movie_features.index.isin(top_movie_ids)]\n",
    "\n",
    "print(f\"Menggunakan subset data dengan {len(movie_features_subset)} film populer.\")"
   ]
  },
  {
   "cell_type": "markdown",
   "id": "6fb31e47",
   "metadata": {},
   "source": [
    "**Persiapan Data untuk Model Collaborative Filtering**\n",
    "\n",
    "Model ini menggunakan library surprise yang memerlukan format data khusus. Kita perlu memuat data rating (userId, movieId, rating) menggunakan Reader dan Dataset dari surprise.\n",
    "\n",
    "Karena dataset rating sangat besar (26 juta), untuk mempercepat proses training, kita bisa mengambil sampel data, misalnya 1 juta rating. Jika Anda menggunakan environment yang kuat (seperti Colab Pro atau mesin lokal yang mumpuni), Anda bisa menggunakan keseluruhan data."
   ]
  },
  {
   "cell_type": "code",
   "execution_count": 15,
   "id": "2db3e947",
   "metadata": {},
   "outputs": [
    {
     "name": "stdout",
     "output_type": "stream",
     "text": [
      "Variabel 'data_collaborative' berhasil dibuat dan siap digunakan.\n"
     ]
    }
   ],
   "source": [
    "# Mengambil sampel 1 juta rating untuk mempercepat proses\n",
    "ratings_sample = ratings_df.sample(n=1000000, random_state=42)\n",
    "\n",
    "# Membuat Reader untuk membaca skala rating dari 1 hingga 5\n",
    "reader = Reader(rating_scale=(1, 5))\n",
    "\n",
    "# Memuat data dari DataFrame ke format dataset surprise\n",
    "# Pastikan urutan kolom adalah: user, item, rating\n",
    "data_collaborative = Dataset.load_from_df(ratings_sample[['userId', 'movieId', 'rating']], reader)\n",
    "\n",
    "print(\"Variabel 'data_collaborative' berhasil dibuat dan siap digunakan.\")"
   ]
  },
  {
   "cell_type": "markdown",
   "id": "072c171a",
   "metadata": {},
   "source": [
    "# **5.Membuat Model**"
   ]
  },
  {
   "cell_type": "markdown",
   "id": "c0b26121",
   "metadata": {},
   "source": [
    "**Content-Based Filtering**"
   ]
  },
  {
   "cell_type": "code",
   "execution_count": 16,
   "id": "07630f9b",
   "metadata": {},
   "outputs": [
    {
     "name": "stderr",
     "output_type": "stream",
     "text": [
      "C:\\Users\\fayiz_lgdvoec\\AppData\\Local\\Temp\\ipykernel_9536\\2821004745.py:2: SettingWithCopyWarning: \n",
      "A value is trying to be set on a copy of a slice from a DataFrame.\n",
      "Try using .loc[row_indexer,col_indexer] = value instead\n",
      "\n",
      "See the caveats in the documentation: https://pandas.pydata.org/pandas-docs/stable/user_guide/indexing.html#returning-a-view-versus-a-copy\n",
      "  movie_features_subset['genres'] = movie_features_subset['genres'].fillna('')\n"
     ]
    },
    {
     "name": "stdout",
     "output_type": "stream",
     "text": [
      "Matriks kemiripan untuk subset berhasil dibuat\n"
     ]
    }
   ],
   "source": [
    "# Membuat matriks TF-IDF dari subset\n",
    "movie_features_subset['genres'] = movie_features_subset['genres'].fillna('')\n",
    "tfidf = TfidfVectorizer(stop_words='english')\n",
    "tfidf_matrix_subset = tfidf.fit_transform(movie_features_subset['genres'])\n",
    "\n",
    "cosine_sim_subset = linear_kernel(tfidf_matrix_subset, tfidf_matrix_subset)\n",
    "\n",
    "print(\"Matriks kemiripan untuk subset berhasil dibuat\")"
   ]
  },
  {
   "cell_type": "code",
   "execution_count": 17,
   "id": "d2e02409",
   "metadata": {},
   "outputs": [],
   "source": [
    "def get_content_based_recommendations(title, cosine_sim_matrix=cosine_sim_subset, movie_features=movie_features_subset):\n",
    "    indices = pd.Series(movie_features.index, index=movie_features['title']).drop_duplicates()\n",
    "    try:\n",
    "        idx = indices[title]\n",
    "        # Dapatkan indeks lokal dari matriks subset\n",
    "        local_idx = movie_features.index.get_loc(idx)\n",
    "    except KeyError:\n",
    "        return f\"Film dengan judul '{title}' tidak ditemukan atau tidak termasuk dalam subset populer.\"\n",
    "\n",
    "    sim_scores = list(enumerate(cosine_sim_matrix[local_idx]))\n",
    "    sim_scores = sorted(sim_scores, key=lambda x: x[1], reverse=True)\n",
    "    sim_scores = sim_scores[1:11]\n",
    "    \n",
    "    movie_indices = [i[0] for i in sim_scores]\n",
    "    return movie_features['title'].iloc[movie_indices]"
   ]
  },
  {
   "cell_type": "code",
   "execution_count": 25,
   "id": "02e3fdb9",
   "metadata": {},
   "outputs": [
    {
     "name": "stdout",
     "output_type": "stream",
     "text": [
      "Rekomendasi Content-Based untuk 'The Dark Knight':\n",
      "movieId\n",
      "6075          Carlito's Way\n",
      "507             Killing Zoe\n",
      "2088      Romeo Is Bleeding\n",
      "832                       M\n",
      "8838         Mercury Rising\n",
      "2112                Payback\n",
      "247             The Killing\n",
      "26170        Coogan's Bluff\n",
      "1619     The Way of the Gun\n",
      "4639            Best Seller\n",
      "Name: title, dtype: object\n"
     ]
    }
   ],
   "source": [
    "# Dapatkan rekomendasi untuk salah satu film populer\n",
    "recommendations = get_content_based_recommendations('The Dark Knight')\n",
    "print(\"Rekomendasi Content-Based untuk 'The Dark Knight':\")\n",
    "print(recommendations)"
   ]
  },
  {
   "cell_type": "markdown",
   "id": "746dd182",
   "metadata": {},
   "source": [
    "**Collaborative Filtering**"
   ]
  },
  {
   "cell_type": "code",
   "execution_count": 19,
   "id": "18024f9e",
   "metadata": {},
   "outputs": [
    {
     "name": "stdout",
     "output_type": "stream",
     "text": [
      "\n",
      "Precision@10 untuk model SVD: 0.9230\n"
     ]
    }
   ],
   "source": [
    "# Fungsi untuk menghitung Precision@k\n",
    "def precision_recall_at_k(predictions, k=10, threshold=4.0):\n",
    "    user_est_true = defaultdict(list)\n",
    "    for uid, _, true_r, est, _ in predictions:\n",
    "        user_est_true[uid].append((est, true_r))\n",
    "\n",
    "    precisions = dict()\n",
    "    recalls = dict()\n",
    "    for uid, user_ratings in user_est_true.items():\n",
    "        user_ratings.sort(key=lambda x: x[0], reverse=True)\n",
    "        n_rel = sum((true_r >= threshold) for (_, true_r) in user_ratings)\n",
    "        n_rec_k = sum((est >= threshold) for (est, _) in user_ratings[:k])\n",
    "        n_rel_and_rec_k = sum(((true_r >= threshold) and (est >= threshold)) for (est, true_r) in user_ratings[:k])\n",
    "\n",
    "        precisions[uid] = n_rel_and_rec_k / n_rec_k if n_rec_k != 0 else 1\n",
    "    \n",
    "    return sum(prec for prec in precisions.values()) / len(precisions)\n",
    "\n",
    "# Bagi data menjadi training dan testing\n",
    "trainset, testset = train_test_split(data_collaborative, test_size=0.2)\n",
    "\n",
    "# Inisialisasi dan latih model SVD\n",
    "model_svd = SVD()\n",
    "model_svd.fit(trainset)\n",
    "\n",
    "# Lakukan prediksi pada test set\n",
    "predictions = model_svd.test(testset)\n",
    "\n",
    "# Hitung dan cetak Precision@10\n",
    "precision_at_10 = precision_recall_at_k(predictions, k=10, threshold=4.0)\n",
    "print(f\"\\nPrecision@10 untuk model SVD: {precision_at_10:.4f}\")"
   ]
  },
  {
   "cell_type": "code",
   "execution_count": 22,
   "id": "f1d3cf0b",
   "metadata": {},
   "outputs": [],
   "source": [
    "def get_collaborative_recommendations(userId, model=model_svd, ratings_df=ratings_df, movie_features=movie_features):\n",
    "    # Mendapatkan daftar semua movieId unik\n",
    "    all_movie_ids = ratings_df['movieId'].unique()\n",
    "    \n",
    "    # Mendapatkan daftar film yang sudah ditonton oleh user\n",
    "    movies_watched_by_user = ratings_df[ratings_df['userId'] == userId]['movieId']\n",
    "    \n",
    "    # Dapatkan daftar film yang BELUM ditonton oleh user\n",
    "    movies_to_predict = np.setdiff1d(all_movie_ids, movies_watched_by_user)\n",
    "    \n",
    "    # Lakukan prediksi untuk film yang belum ditonton\n",
    "    testset_for_user = [[userId, movie_id, 4.] for movie_id in movies_to_predict]\n",
    "    predictions = model.test(testset_for_user)\n",
    "    predictions.sort(key=lambda x: x.est, reverse=True)\n",
    "    \n",
    "    # Ambil top 10 movieId\n",
    "    top_10_movie_ids = [pred.iid for pred in predictions[:10]]\n",
    "    \n",
    "    # Memberi filter ID yang hanya ada di dalam indeks movie_features\n",
    "    existing_ids = [movie_id for movie_id in top_10_movie_ids if movie_id in movie_features.index]\n",
    "\n",
    "    top_10_movies = movie_features.loc[existing_ids]['title']\n",
    "    return top_10_movies"
   ]
  },
  {
   "cell_type": "code",
   "execution_count": 23,
   "id": "6bd1e025",
   "metadata": {},
   "outputs": [
    {
     "name": "stdout",
     "output_type": "stream",
     "text": [
      "\n",
      "Rekomendasi Collaborative Filtering untuk User ID 1:\n",
      "movieId\n",
      "318    The Million Dollar Hotel\n",
      "Name: title, dtype: object\n"
     ]
    }
   ],
   "source": [
    "# Dapatkan rekomendasi untuk user dengan ID 1\n",
    "collab_recommendations = get_collaborative_recommendations(userId=1)\n",
    "print(\"\\nRekomendasi Collaborative Filtering untuk User ID 1:\")\n",
    "print(collab_recommendations)"
   ]
  }
 ],
 "metadata": {
  "kernelspec": {
   "display_name": "Python 3",
   "language": "python",
   "name": "python3"
  },
  "language_info": {
   "codemirror_mode": {
    "name": "ipython",
    "version": 3
   },
   "file_extension": ".py",
   "mimetype": "text/x-python",
   "name": "python",
   "nbconvert_exporter": "python",
   "pygments_lexer": "ipython3",
   "version": "3.12.6"
  }
 },
 "nbformat": 4,
 "nbformat_minor": 5
}
